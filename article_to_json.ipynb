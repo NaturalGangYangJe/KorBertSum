{
 "cells": [
  {
   "cell_type": "code",
   "execution_count": 79,
   "metadata": {},
   "outputs": [],
   "source": [
    "import pandas as pd\n",
    "import ast\n",
    "import json\n",
    "import six\n",
    "import torch\n",
    "import collections\n",
    "import glob\n",
    "import numpy as np\n",
    "from tqdm import tqdm"
   ]
  },
  {
   "cell_type": "markdown",
   "metadata": {},
   "source": [
    "### 파일 가져오기"
   ]
  },
  {
   "cell_type": "code",
   "execution_count": 90,
   "metadata": {},
   "outputs": [],
   "source": [
    "mydf = pd.read_csv('/Users/jisoo/Desktop/DSL_NLP_newsdata/data/train_morp.csv')"
   ]
  },
  {
   "cell_type": "markdown",
   "metadata": {},
   "source": [
    "### train test Split"
   ]
  },
  {
   "cell_type": "code",
   "execution_count": 92,
   "metadata": {},
   "outputs": [],
   "source": [
    "train, valid, test = np.split(mydf.sample(frac=1, random_state=42), [int(.8*len(mydf)), int(.9*len(mydf))])"
   ]
  },
  {
   "cell_type": "markdown",
   "metadata": {},
   "source": [
    "### list of dictionaries 만들기"
   ]
  },
  {
   "cell_type": "code",
   "execution_count": 137,
   "metadata": {},
   "outputs": [],
   "source": [
    "hehe = []\n",
    "\n",
    "for idx, row in valid.iterrows(): # train,test,valid\n",
    "    raw = row['article_morp']\n",
    "    target_idx = ast.literal_eval(row['extractive'])\n",
    "    \n",
    "    sentences = raw.split(' ./SF ')[:-1]\n",
    "    src = [i.split(' ') for i in sentences]\n",
    "    tgt = [a for i,a in enumerate(src) if i in target_idx]\n",
    "    \n",
    "    mydict={}\n",
    "    mydict['src'] = src\n",
    "    mydict['tgt'] = tgt\n",
    "    hehe.append(mydict)"
   ]
  },
  {
   "cell_type": "code",
   "execution_count": 121,
   "metadata": {},
   "outputs": [],
   "source": [
    "target_folder = '/Users/jisoo/Desktop/bertsum/BertSum/json_data/'"
   ]
  },
  {
   "cell_type": "code",
   "execution_count": 136,
   "metadata": {},
   "outputs": [
    {
     "name": "stderr",
     "output_type": "stream",
     "text": [
      "100%|██████████| 34242/34242 [00:11<00:00, 2941.89it/s]\n"
     ]
    }
   ],
   "source": [
    "#train\n",
    "\n",
    "temp = []\n",
    "for i,a in enumerate(tqdm(hehe)):\n",
    "    if (i+1)%6!=0:\n",
    "        temp.append(a)\n",
    "    else:\n",
    "        filename = 'korean.'+'train.'+str(i//6)+'.json'\n",
    "        with open(target_folder+filename, \"w\", encoding='utf8') as json_file:\n",
    "            json.dump(temp, json_file, ensure_ascii=False)\n",
    "        temp = []"
   ]
  },
  {
   "cell_type": "code",
   "execution_count": 138,
   "metadata": {},
   "outputs": [
    {
     "name": "stderr",
     "output_type": "stream",
     "text": [
      "100%|██████████| 4280/4280 [00:01<00:00, 2944.88it/s]\n"
     ]
    }
   ],
   "source": [
    "#valid\n",
    "temp = []\n",
    "for i,a in enumerate(tqdm(hehe)):\n",
    "    if (i+1)%6!=0:\n",
    "        temp.append(a)\n",
    "    else:\n",
    "        filename = 'korean.'+'valid.'+str(i//6)+'.json'\n",
    "        with open(target_folder+filename, \"w\", encoding='utf8') as json_file:\n",
    "            json.dump(temp, json_file, ensure_ascii=False)\n",
    "        temp = []"
   ]
  },
  {
   "cell_type": "code",
   "execution_count": 134,
   "metadata": {},
   "outputs": [
    {
     "name": "stderr",
     "output_type": "stream",
     "text": [
      "100%|██████████| 4281/4281 [00:01<00:00, 2378.69it/s]\n"
     ]
    }
   ],
   "source": [
    "#test\n",
    "temp = []\n",
    "for i,a in enumerate(tqdm(hehe)):\n",
    "    if (i+1)%6!=0:\n",
    "        temp.append(a)\n",
    "    else:\n",
    "        temp.append(a)\n",
    "        filename = 'korean.'+'test.'+str(i//6)+'.json'\n",
    "        with open(target_folder+filename, \"w\", encoding='utf8') as json_file:\n",
    "            json.dump(temp, json_file, ensure_ascii=False)\n",
    "        temp = []"
   ]
  }
 ],
 "metadata": {
  "kernelspec": {
   "display_name": "Python",
   "language": "python",
   "name": "python3"
  },
  "language_info": {
   "codemirror_mode": {
    "name": "ipython",
    "version": 3
   },
   "file_extension": ".py",
   "mimetype": "text/x-python",
   "name": "python",
   "nbconvert_exporter": "python",
   "pygments_lexer": "ipython3",
   "version": "3.7.9"
  },
  "toc": {
   "base_numbering": 1,
   "nav_menu": {},
   "number_sections": true,
   "sideBar": true,
   "skip_h1_title": false,
   "title_cell": "Table of Contents",
   "title_sidebar": "Contents",
   "toc_cell": false,
   "toc_position": {},
   "toc_section_display": true,
   "toc_window_display": false
  }
 },
 "nbformat": 4,
 "nbformat_minor": 4
}
